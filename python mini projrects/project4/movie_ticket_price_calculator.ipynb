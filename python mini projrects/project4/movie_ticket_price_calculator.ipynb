{
 "cells": [
  {
   "cell_type": "code",
   "execution_count": 3,
   "id": "cfd73865-b682-4c8c-ab9c-3ef43ab2748d",
   "metadata": {},
   "outputs": [
    {
     "name": "stdout",
     "output_type": "stream",
     "text": [
      "Enter age to get the ticket price.\n",
      "Enter Quit to exit\n",
      "=======================================\n"
     ]
    },
    {
     "name": "stdout",
     "output_type": "stream",
     "text": [
      "Enter age: 23\n"
     ]
    },
    {
     "name": "stdout",
     "output_type": "stream",
     "text": [
      "Ticket price is: 100\n"
     ]
    },
    {
     "name": "stdout",
     "output_type": "stream",
     "text": [
      "Enter age: 45\n"
     ]
    },
    {
     "name": "stdout",
     "output_type": "stream",
     "text": [
      "Ticket price is: 100\n"
     ]
    },
    {
     "name": "stdout",
     "output_type": "stream",
     "text": [
      "Enter age: 12\n"
     ]
    },
    {
     "name": "stdout",
     "output_type": "stream",
     "text": [
      "Ticket price is: 50.0\n"
     ]
    },
    {
     "name": "stdout",
     "output_type": "stream",
     "text": [
      "Enter age: 1\n"
     ]
    },
    {
     "name": "stdout",
     "output_type": "stream",
     "text": [
      "Ticket is free.\n"
     ]
    },
    {
     "name": "stdout",
     "output_type": "stream",
     "text": [
      "Enter age: 2\n"
     ]
    },
    {
     "name": "stdout",
     "output_type": "stream",
     "text": [
      "Ticket is free.\n"
     ]
    },
    {
     "name": "stdout",
     "output_type": "stream",
     "text": [
      "Enter age: 0248384\n"
     ]
    },
    {
     "name": "stdout",
     "output_type": "stream",
     "text": [
      "Are you sure you've entered a correct age\n",
      "Please enter a valid age\n"
     ]
    },
    {
     "name": "stdout",
     "output_type": "stream",
     "text": [
      "Enter age: -1234\n"
     ]
    },
    {
     "name": "stdout",
     "output_type": "stream",
     "text": [
      "Age must be a positive integer\n"
     ]
    },
    {
     "name": "stdout",
     "output_type": "stream",
     "text": [
      "Enter age: 34\n"
     ]
    },
    {
     "name": "stdout",
     "output_type": "stream",
     "text": [
      "Ticket price is: 100\n"
     ]
    },
    {
     "name": "stdout",
     "output_type": "stream",
     "text": [
      "Enter age: 56\n"
     ]
    },
    {
     "name": "stdout",
     "output_type": "stream",
     "text": [
      "Ticket price is: 100\n"
     ]
    },
    {
     "name": "stdout",
     "output_type": "stream",
     "text": [
      "Enter age: 3\n"
     ]
    },
    {
     "name": "stdout",
     "output_type": "stream",
     "text": [
      "Ticket is free.\n"
     ]
    },
    {
     "name": "stdout",
     "output_type": "stream",
     "text": [
      "Enter age: 4\n"
     ]
    },
    {
     "name": "stdout",
     "output_type": "stream",
     "text": [
      "Ticket price is: 50.0\n"
     ]
    },
    {
     "name": "stdout",
     "output_type": "stream",
     "text": [
      "Enter age: quit\n"
     ]
    },
    {
     "name": "stdout",
     "output_type": "stream",
     "text": [
      "Total amount is : 500.0\n"
     ]
    }
   ],
   "source": [
    "                  #CALCULATE MOVIE TICKET PRICE\n",
    "print(\"Enter age to get the ticket price.\")\n",
    "print(\"Enter Quit to exit\")\n",
    "print(\"=======================================\")\n",
    "ticket_price=100\n",
    "\n",
    "tot_price = 0\n",
    "\n",
    "while True:\n",
    "    user_input = input(\"Enter age:\")\n",
    "\n",
    "    try:\n",
    "        user_input = int(user_input)\n",
    "        if(100 >= user_input >= 0):\n",
    "            if (user_input <= 3):\n",
    "                print(\"Ticket is free.\")\n",
    "                \n",
    "            elif (4 <= user_input <= 12):\n",
    "                a = ticket_price - (ticket_price * 0.5)\n",
    "                print(\"Ticket price is:\", a)\n",
    "                tot_price += a\n",
    "                \n",
    "            elif (user_input > 12):\n",
    "                print(\"Ticket price is:\", ticket_price)\n",
    "                tot_price += ticket_price\n",
    "                \n",
    "        elif(user_input >= 100):\n",
    "            print(\"Are you sure you've entered a correct age\")\n",
    "            print(\"Please enter a valid age\")\n",
    "            \n",
    "        else:\n",
    "            print(\"Age must be a positive integer\")\n",
    "            continue\n",
    "\n",
    "    except:\n",
    "        if (user_input.lower() == \"quit\"):\n",
    "            print(\"Total amount is :\",tot_price)\n",
    "            break\n",
    "        else:\n",
    "            print(\"Please enter a number as age, not a string\")\n"
   ]
  },
  {
   "cell_type": "code",
   "execution_count": null,
   "id": "575ac6d8-2f95-4a51-9f46-ea7f511fc7ee",
   "metadata": {},
   "outputs": [],
   "source": []
  }
 ],
 "metadata": {
  "kernelspec": {
   "display_name": "Python 3 (ipykernel)",
   "language": "python",
   "name": "python3"
  },
  "language_info": {
   "codemirror_mode": {
    "name": "ipython",
    "version": 3
   },
   "file_extension": ".py",
   "mimetype": "text/x-python",
   "name": "python",
   "nbconvert_exporter": "python",
   "pygments_lexer": "ipython3",
   "version": "3.12.1"
  }
 },
 "nbformat": 4,
 "nbformat_minor": 5
}
