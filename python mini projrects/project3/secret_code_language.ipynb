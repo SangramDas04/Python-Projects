{
 "cells": [
  {
   "cell_type": "code",
   "execution_count": 5,
   "id": "2e5acfd9-557a-4a24-9ed5-21283e78aa4f",
   "metadata": {},
   "outputs": [],
   "source": [
    "                                    #SECRET CODE LANGUAGE\n",
    "st = input(\"Enter message\")\n",
    "import random\n",
    "import string\n",
    "words = st.split(\" \")\n",
    "coding = input(\"1 for Coding or 0 for Decoding\")\n",
    "coding = True if (coding ==\"1\") else False\n",
    "\n",
    "if(coding):\n",
    "  nwords = []\n",
    "  for word in words:\n",
    "    if(len(word)>=3):\n",
    "      r1=\"\".join((random.choices(string.ascii_letters)))\n",
    "      r2=\"\".join((random.choices(string.ascii_letters)))\n",
    "      stnew = r1+ word[1:] + word[0] + r2\n",
    "      nwords.append(stnew)\n",
    "    else:\n",
    "      nwords.append(word[::-1])\n",
    "  print(\" \".join(nwords))\n",
    "\n",
    "else:\n",
    "  nwords = []\n",
    "  for word in words:\n",
    "    if(len(word)>=3):\n",
    "      stnew = word[1:-1]\n",
    "      stnew = stnew[-1] + stnew[:-1]\n",
    "      nwords.append(stnew)\n",
    "    else:\n",
    "      nwords.append(word[::-1])\n",
    "  print(\" \".join(nwords))\n"
   ]
  },
  {
   "cell_type": "code",
   "execution_count": null,
   "id": "cfacba1f-e577-4234-9964-b98bcf5a0258",
   "metadata": {},
   "outputs": [],
   "source": []
  }
 ],
 "metadata": {
  "kernelspec": {
   "display_name": "Python 3 (ipykernel)",
   "language": "python",
   "name": "python3"
  },
  "language_info": {
   "codemirror_mode": {
    "name": "ipython",
    "version": 3
   },
   "file_extension": ".py",
   "mimetype": "text/x-python",
   "name": "python",
   "nbconvert_exporter": "python",
   "pygments_lexer": "ipython3",
   "version": "3.12.1"
  }
 },
 "nbformat": 4,
 "nbformat_minor": 5
}
