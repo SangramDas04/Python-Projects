{
 "cells": [
  {
   "cell_type": "code",
   "execution_count": 12,
   "id": "175d471e-89f5-4a95-86a4-d71b0fb14dbc",
   "metadata": {},
   "outputs": [],
   "source": [
    "                                    # SNAKE WATER GUN GAME\n",
    "print(\"Hi! Welcome to the Snake Water Gun Game\")\n",
    "\n",
    "while True:\n",
    "    user = int(input(\"Choose '0' for Snake '1' for Water an1d '2' for Gun and '3' to stop playing \\n\"))\n",
    "    if(user == 3):\n",
    "        print(\"Do you wnat to exit?\"\n",
    "              \"enter 'y' to exit and 'n' to continue playing\")\n",
    "        if(input() == 'y'):\n",
    "            print(\"Thank You for playing!!!\")\n",
    "            break      \n",
    "        else:\n",
    "            continue\n",
    "            \n",
    "    elif(user > 3):\n",
    "        raise ValueError(\"Please enter a valid number(number should be between 0 to 2)\")\n",
    "    print(\"You entered =\",user)\n",
    "\n",
    "    import random\n",
    "    computer = random.randint(0,2)\n",
    "    print(\"Computer entered =\",computer)\n",
    "\n",
    "\n",
    "    if(user == computer):\n",
    "        print(\"Draw\")\n",
    "        \n",
    "    elif(user > computer):\n",
    "        if(computer == 0 and user == 1):\n",
    "            print(\"Computer wins\")\n",
    "\n",
    "        elif(computer == 0 and user == 2):\n",
    "            print(\"You wins\")\n",
    "            \n",
    "        elif(computer == 1 and user == 2):\n",
    "            print(\"Computer wins\")\n",
    "            \n",
    "    elif(user < computer):\n",
    "        if(computer == 1 and user == 0):\n",
    "            print(\"You wins\")\n",
    "        \n",
    "        elif(computer == 2 and user == 0):\n",
    "            print(\"Computer wins\")\n",
    "\n",
    "        elif(computer == 2 and user == 1):\n",
    "            print(\"You wins\")\n"
   ]
  },
  {
   "cell_type": "code",
   "execution_count": null,
   "id": "1c5bdb1d-b7ab-4752-8064-8f7f66ad7a17",
   "metadata": {},
   "outputs": [],
   "source": []
  }
 ],
 "metadata": {
  "kernelspec": {
   "display_name": "Python 3 (ipykernel)",
   "language": "python",
   "name": "python3"
  },
  "language_info": {
   "codemirror_mode": {
    "name": "ipython",
    "version": 3
   },
   "file_extension": ".py",
   "mimetype": "text/x-python",
   "name": "python",
   "nbconvert_exporter": "python",
   "pygments_lexer": "ipython3",
   "version": "3.12.1"
  }
 },
 "nbformat": 4,
 "nbformat_minor": 5
}
