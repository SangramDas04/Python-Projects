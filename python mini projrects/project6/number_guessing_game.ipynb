{
 "cells": [
  {
   "cell_type": "code",
   "execution_count": 34,
   "id": "18117306-b0c7-49d9-9226-4fdc685cd2af",
   "metadata": {},
   "outputs": [
    {
     "ename": "IndentationError",
     "evalue": "unindent does not match any outer indentation level (<string>, line 18)",
     "output_type": "error",
     "traceback": [
      "\u001b[1;36m  File \u001b[1;32m<string>:18\u001b[1;36m\u001b[0m\n\u001b[1;33m    run_random()\u001b[0m\n\u001b[1;37m                ^\u001b[0m\n\u001b[1;31mIndentationError\u001b[0m\u001b[1;31m:\u001b[0m unindent does not match any outer indentation level\n"
     ]
    }
   ],
   "source": [
    "              #GUESS THE NUMBER GAME\n",
    "import random\n",
    "def run_random():\n",
    "    global number\n",
    "    number = random.randint(1,100)\n",
    "\n",
    "run_random()\n",
    "count_try = 0\n",
    "\n",
    "while count_try <= 8:\n",
    "    user_input=int(input(\"Guess the number: \"))\n",
    "    count_try += 1\n",
    "    if (1<=user_input<=100):\n",
    "        if(user_input == number):\n",
    "            print(\"Congratulation, You have won the game!!!\")\n",
    "            notification = input(\"Do you want to continue!(Yes,No):\")\n",
    "            if (notification.lower() == \"yes\"):\n",
    "                run_random()\n",
    "                count_try = 0\n",
    "                print(\"\\n\")\n",
    "                continue\n",
    "            else:\n",
    "                break\n",
    "\n",
    "        elif(user_input > number):\n",
    "            print(\"The number you have entered is GREATER\")\n",
    "            print(f\"You have only {8 - count_try} tries left \")\n",
    "            print(\"\\n\")\n",
    "\n",
    "        elif(user_input < number):\n",
    "            print(\"The number you have entered is SMALLER\")\n",
    "            print(f\"You have only {8 - count_try} tries left \")\n",
    "            print(\"\\n\")\n",
    "\n",
    "    elif(100 < user_input and user_input < 0):\n",
    "        print(\"Please enter number between 1 to 100\")\n",
    "        print(f\"You have only {8 - count_try} tries left \")\n",
    "        print(\"\\n\")\n",
    "\n",
    "    else:\n",
    "        print(\"Please follow the above shown instruction\")\n",
    "        print(\"Please enter number between 1 to 100\")\n",
    "        print(f\"You have only {8 - count_try} tries left \")\n",
    "        print(\"\\n\")\n",
    "\n",
    "    if(count_try == 8):\n",
    "            print(f\"The correct number is {number}\")\n",
    "            notification = input(\"Do you want to continue!(Yes,No):\")\n",
    "            if (notification.lower() == \"yes\"):\n",
    "                run_random()\n",
    "                count_try = 0\n",
    "                continue\n",
    "            else:\n",
    "                 break\n",
    "\n"
   ]
  },
  {
   "cell_type": "code",
   "execution_count": null,
   "id": "3c596e4b-2d67-48be-acdc-956cb4966895",
   "metadata": {},
   "outputs": [],
   "source": []
  },
  {
   "cell_type": "code",
   "execution_count": null,
   "id": "61673f45-2f5c-4dca-87b1-900df3552f14",
   "metadata": {},
   "outputs": [],
   "source": []
  },
  {
   "cell_type": "code",
   "execution_count": null,
   "id": "59cfeb30-9a69-4df3-a50f-e775bd63e9b0",
   "metadata": {},
   "outputs": [],
   "source": []
  },
  {
   "cell_type": "code",
   "execution_count": null,
   "id": "b950b99e-7609-47bb-a1a0-d2972715e3d1",
   "metadata": {},
   "outputs": [],
   "source": []
  }
 ],
 "metadata": {
  "kernelspec": {
   "display_name": "Python 3 (ipykernel)",
   "language": "python",
   "name": "python3"
  },
  "language_info": {
   "codemirror_mode": {
    "name": "ipython",
    "version": 3
   },
   "file_extension": ".py",
   "mimetype": "text/x-python",
   "name": "python",
   "nbconvert_exporter": "python",
   "pygments_lexer": "ipython3",
   "version": "3.12.1"
  }
 },
 "nbformat": 4,
 "nbformat_minor": 5
}
