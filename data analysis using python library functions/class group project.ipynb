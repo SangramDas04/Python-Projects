{
 "cells": [
  {
   "cell_type": "markdown",
   "id": "ee853bc6-0abb-4af9-97dd-5e4615d90d37",
   "metadata": {},
   "source": [
    "# All Lib Installation"
   ]
  },
  {
   "cell_type": "code",
   "execution_count": 1,
   "id": "aa980e71-5e32-4a82-adbc-bd9578b6e391",
   "metadata": {},
   "outputs": [
    {
     "name": "stderr",
     "output_type": "stream",
     "text": [
      "C:\\Users\\BIMAL DAS\\AppData\\Local\\Temp\\ipykernel_3316\\3708380983.py:1: DeprecationWarning: \n",
      "Pyarrow will become a required dependency of pandas in the next major release of pandas (pandas 3.0),\n",
      "(to allow more performant data types, such as the Arrow string type, and better interoperability with other libraries)\n",
      "but was not found to be installed on your system.\n",
      "If this would cause problems for you,\n",
      "please provide us feedback at https://github.com/pandas-dev/pandas/issues/54466\n",
      "        \n",
      "  import pandas as pd\n"
     ]
    }
   ],
   "source": [
    "\n",
    "import pandas as pd\n",
    "import numpy as np\n",
    "\n",
    "import matplotlib\n",
    "import matplotlib.pyplot as plt\n",
    "import matplotlib.image as mpimg "
   ]
  },
  {
   "cell_type": "markdown",
   "id": "3f8222c0-dbd4-4510-912b-794af8ef1386",
   "metadata": {},
   "source": [
    "# Reading the Excel file"
   ]
  },
  {
   "cell_type": "code",
   "execution_count": 2,
   "id": "ff4303e8-cbc8-45eb-914a-bafdaf749d31",
   "metadata": {},
   "outputs": [],
   "source": [
    "# path1 = \"C:\\Users\\BIMAL DAS\\OneDrive\\Desktop\\Python programming\\Classwork\n",
    "page1 = pd.read_excel(\"hotel_revenue_historical_full.xlsx\",\"2018\")\n",
    "df1 = pd.DataFrame(page1)\n",
    "# display(df1)"
   ]
  },
  {
   "cell_type": "code",
   "execution_count": 3,
   "id": "276aefe9-c80d-41d2-af8c-10c6013c7fa7",
   "metadata": {},
   "outputs": [],
   "source": [
    "page2 = pd.read_excel(\"hotel_revenue_historical_full.xlsx\",\"2019\")\n",
    "df2 = pd.DataFrame(page2)\n",
    "# display(df2)"
   ]
  },
  {
   "cell_type": "code",
   "execution_count": 4,
   "id": "215508da-8b9c-4e5a-947c-8a67d5fdd8b9",
   "metadata": {},
   "outputs": [],
   "source": [
    "page3 = pd.read_excel(\"hotel_revenue_historical_full.xlsx\",\"2020\")\n",
    "df3 = pd.DataFrame(page3)\n",
    "# display(df3)"
   ]
  },
  {
   "cell_type": "markdown",
   "id": "64488a74-8f43-4a98-8fd5-5b704ff9cfe0",
   "metadata": {},
   "source": [
    "# Creating a single excel sheet"
   ]
  },
  {
   "cell_type": "code",
   "execution_count": 5,
   "id": "565119e5-62e9-4704-b7f8-5cc580148c94",
   "metadata": {},
   "outputs": [],
   "source": [
    "df = pd.concat([df1,df2,df3],axis = 0,ignore_index = True)\n",
    "# df"
   ]
  },
  {
   "cell_type": "code",
   "execution_count": 6,
   "id": "46b26d27-0fc1-48a8-adb8-bad5b0b66151",
   "metadata": {},
   "outputs": [],
   "source": [
    "df.to_excel(\"Combined_Hotel_Dataset.xlsx\",index = False)\n"
   ]
  },
  {
   "cell_type": "code",
   "execution_count": 7,
   "id": "ec0795cb-8082-4e8a-829c-63feacfce11b",
   "metadata": {},
   "outputs": [
    {
     "data": {
      "text/html": [
       "<div>\n",
       "<style scoped>\n",
       "    .dataframe tbody tr th:only-of-type {\n",
       "        vertical-align: middle;\n",
       "    }\n",
       "\n",
       "    .dataframe tbody tr th {\n",
       "        vertical-align: top;\n",
       "    }\n",
       "\n",
       "    .dataframe thead th {\n",
       "        text-align: right;\n",
       "    }\n",
       "</style>\n",
       "<table border=\"1\" class=\"dataframe\">\n",
       "  <thead>\n",
       "    <tr style=\"text-align: right;\">\n",
       "      <th></th>\n",
       "      <th>hotel</th>\n",
       "      <th>is_canceled</th>\n",
       "      <th>lead_time</th>\n",
       "      <th>arrival_date_year</th>\n",
       "      <th>arrival_date_month</th>\n",
       "      <th>arrival_date_week_number</th>\n",
       "      <th>arrival_date_day_of_month</th>\n",
       "      <th>stays_in_weekend_nights</th>\n",
       "      <th>stays_in_week_nights</th>\n",
       "      <th>adults</th>\n",
       "      <th>...</th>\n",
       "      <th>agent</th>\n",
       "      <th>company</th>\n",
       "      <th>days_in_waiting_list</th>\n",
       "      <th>customer_type</th>\n",
       "      <th>adr</th>\n",
       "      <th>required_car_parking_spaces</th>\n",
       "      <th>total_of_special_requests</th>\n",
       "      <th>reservation_status</th>\n",
       "      <th>reservation_status_date</th>\n",
       "      <th>Column1</th>\n",
       "    </tr>\n",
       "  </thead>\n",
       "  <tbody>\n",
       "    <tr>\n",
       "      <th>0</th>\n",
       "      <td>Resort Hotel</td>\n",
       "      <td>1</td>\n",
       "      <td>84</td>\n",
       "      <td>2018</td>\n",
       "      <td>August</td>\n",
       "      <td>31</td>\n",
       "      <td>1</td>\n",
       "      <td>2</td>\n",
       "      <td>1</td>\n",
       "      <td>2</td>\n",
       "      <td>...</td>\n",
       "      <td>175.0</td>\n",
       "      <td>NaN</td>\n",
       "      <td>0</td>\n",
       "      <td>Transient-Party</td>\n",
       "      <td>118.06</td>\n",
       "      <td>0</td>\n",
       "      <td>0</td>\n",
       "      <td>Canceled</td>\n",
       "      <td>2018-05-12</td>\n",
       "      <td>NaN</td>\n",
       "    </tr>\n",
       "    <tr>\n",
       "      <th>1</th>\n",
       "      <td>Resort Hotel</td>\n",
       "      <td>1</td>\n",
       "      <td>84</td>\n",
       "      <td>2018</td>\n",
       "      <td>August</td>\n",
       "      <td>31</td>\n",
       "      <td>1</td>\n",
       "      <td>2</td>\n",
       "      <td>1</td>\n",
       "      <td>2</td>\n",
       "      <td>...</td>\n",
       "      <td>175.0</td>\n",
       "      <td>NaN</td>\n",
       "      <td>0</td>\n",
       "      <td>Transient-Party</td>\n",
       "      <td>118.06</td>\n",
       "      <td>0</td>\n",
       "      <td>0</td>\n",
       "      <td>Canceled</td>\n",
       "      <td>2018-05-12</td>\n",
       "      <td>NaN</td>\n",
       "    </tr>\n",
       "    <tr>\n",
       "      <th>2</th>\n",
       "      <td>Resort Hotel</td>\n",
       "      <td>1</td>\n",
       "      <td>89</td>\n",
       "      <td>2018</td>\n",
       "      <td>August</td>\n",
       "      <td>31</td>\n",
       "      <td>1</td>\n",
       "      <td>0</td>\n",
       "      <td>1</td>\n",
       "      <td>2</td>\n",
       "      <td>...</td>\n",
       "      <td>NaN</td>\n",
       "      <td>NaN</td>\n",
       "      <td>0</td>\n",
       "      <td>Transient</td>\n",
       "      <td>154.00</td>\n",
       "      <td>0</td>\n",
       "      <td>0</td>\n",
       "      <td>Canceled</td>\n",
       "      <td>2018-05-04</td>\n",
       "      <td>NaN</td>\n",
       "    </tr>\n",
       "    <tr>\n",
       "      <th>3</th>\n",
       "      <td>Resort Hotel</td>\n",
       "      <td>1</td>\n",
       "      <td>10</td>\n",
       "      <td>2018</td>\n",
       "      <td>August</td>\n",
       "      <td>31</td>\n",
       "      <td>1</td>\n",
       "      <td>0</td>\n",
       "      <td>1</td>\n",
       "      <td>2</td>\n",
       "      <td>...</td>\n",
       "      <td>NaN</td>\n",
       "      <td>NaN</td>\n",
       "      <td>0</td>\n",
       "      <td>Transient-Party</td>\n",
       "      <td>202.00</td>\n",
       "      <td>0</td>\n",
       "      <td>0</td>\n",
       "      <td>Canceled</td>\n",
       "      <td>2018-07-29</td>\n",
       "      <td>NaN</td>\n",
       "    </tr>\n",
       "    <tr>\n",
       "      <th>4</th>\n",
       "      <td>Resort Hotel</td>\n",
       "      <td>1</td>\n",
       "      <td>80</td>\n",
       "      <td>2018</td>\n",
       "      <td>August</td>\n",
       "      <td>31</td>\n",
       "      <td>1</td>\n",
       "      <td>0</td>\n",
       "      <td>1</td>\n",
       "      <td>2</td>\n",
       "      <td>...</td>\n",
       "      <td>240.0</td>\n",
       "      <td>NaN</td>\n",
       "      <td>0</td>\n",
       "      <td>Transient</td>\n",
       "      <td>134.00</td>\n",
       "      <td>0</td>\n",
       "      <td>2</td>\n",
       "      <td>Canceled</td>\n",
       "      <td>2018-07-16</td>\n",
       "      <td>NaN</td>\n",
       "    </tr>\n",
       "  </tbody>\n",
       "</table>\n",
       "<p>5 rows × 33 columns</p>\n",
       "</div>"
      ],
      "text/plain": [
       "          hotel  is_canceled  lead_time  arrival_date_year arrival_date_month  \\\n",
       "0  Resort Hotel            1         84               2018             August   \n",
       "1  Resort Hotel            1         84               2018             August   \n",
       "2  Resort Hotel            1         89               2018             August   \n",
       "3  Resort Hotel            1         10               2018             August   \n",
       "4  Resort Hotel            1         80               2018             August   \n",
       "\n",
       "   arrival_date_week_number  arrival_date_day_of_month  \\\n",
       "0                        31                          1   \n",
       "1                        31                          1   \n",
       "2                        31                          1   \n",
       "3                        31                          1   \n",
       "4                        31                          1   \n",
       "\n",
       "   stays_in_weekend_nights  stays_in_week_nights  adults  ...  agent  company  \\\n",
       "0                        2                     1       2  ...  175.0      NaN   \n",
       "1                        2                     1       2  ...  175.0      NaN   \n",
       "2                        0                     1       2  ...    NaN      NaN   \n",
       "3                        0                     1       2  ...    NaN      NaN   \n",
       "4                        0                     1       2  ...  240.0      NaN   \n",
       "\n",
       "  days_in_waiting_list    customer_type     adr required_car_parking_spaces  \\\n",
       "0                    0  Transient-Party  118.06                           0   \n",
       "1                    0  Transient-Party  118.06                           0   \n",
       "2                    0        Transient  154.00                           0   \n",
       "3                    0  Transient-Party  202.00                           0   \n",
       "4                    0        Transient  134.00                           0   \n",
       "\n",
       "   total_of_special_requests  reservation_status  reservation_status_date  \\\n",
       "0                          0            Canceled               2018-05-12   \n",
       "1                          0            Canceled               2018-05-12   \n",
       "2                          0            Canceled               2018-05-04   \n",
       "3                          0            Canceled               2018-07-29   \n",
       "4                          2            Canceled               2018-07-16   \n",
       "\n",
       "  Column1  \n",
       "0     NaN  \n",
       "1     NaN  \n",
       "2     NaN  \n",
       "3     NaN  \n",
       "4     NaN  \n",
       "\n",
       "[5 rows x 33 columns]"
      ]
     },
     "execution_count": 7,
     "metadata": {},
     "output_type": "execute_result"
    }
   ],
   "source": [
    "new_df = pd.read_excel(\"Combined_Hotel_Dataset.xlsx\")\n",
    "new_df.head()"
   ]
  },
  {
   "cell_type": "code",
   "execution_count": 8,
   "id": "fee238b3-05e7-4511-9d52-deb2853b516d",
   "metadata": {},
   "outputs": [],
   "source": [
    "date1 = new_df[(new_df.loc[:,\"arrival_date_year\"] == 2018)]\n",
    "date2 = new_df[(new_df.loc[:,\"arrival_date_year\"] == 2019)]\n",
    "date3 = new_df[(new_df.loc[:,\"arrival_date_year\"] == 2020)]"
   ]
  },
  {
   "cell_type": "markdown",
   "id": "51f9b8f6-9167-40c3-b9af-dadbea5a8662",
   "metadata": {},
   "source": [
    "# Total Adults in Year 2018,2019,2020"
   ]
  },
  {
   "cell_type": "code",
   "execution_count": 9,
   "id": "eb93663d-e596-43c3-ae85-aaa4e61d5bf6",
   "metadata": {},
   "outputs": [
    {
     "data": {
      "text/plain": [
       "'No. of adults in year 2018 is 40262'"
      ]
     },
     "metadata": {},
     "output_type": "display_data"
    },
    {
     "data": {
      "text/plain": [
       "'No. of adults in year 2019 is 146292'"
      ]
     },
     "metadata": {},
     "output_type": "display_data"
    },
    {
     "data": {
      "text/plain": [
       "'No. of adults in year 2020 is 76410'"
      ]
     },
     "metadata": {},
     "output_type": "display_data"
    }
   ],
   "source": [
    "adults1 = date1.loc[:,\"adults\"].sum()\n",
    "\n",
    "adults2 = date2.loc[:,\"adults\"].sum()\n",
    "\n",
    "adults3 = date3.loc[:,\"adults\"].sum()\n",
    "       \n",
    "display(f\"No. of adults in year 2018 is {adults1}\",\n",
    "        f\"No. of adults in year 2019 is {adults2}\",\n",
    "        f\"No. of adults in year 2020 is {adults3}\")"
   ]
  },
  {
   "cell_type": "markdown",
   "id": "7436de0a-7012-4cb3-9c00-2d61f47e5fe3",
   "metadata": {},
   "source": [
    "# Total Children in Year 2018,2019,2020"
   ]
  },
  {
   "cell_type": "code",
   "execution_count": 10,
   "id": "fb864158-c80e-4d24-83e3-9521dd8f9d22",
   "metadata": {},
   "outputs": [
    {
     "data": {
      "text/plain": [
       "'No. of children in year 2018 is 1357'"
      ]
     },
     "metadata": {},
     "output_type": "display_data"
    },
    {
     "data": {
      "text/plain": [
       "'No. of children in year 2019 is 7330'"
      ]
     },
     "metadata": {},
     "output_type": "display_data"
    },
    {
     "data": {
      "text/plain": [
       "'No. of children in year 2020 is 5138'"
      ]
     },
     "metadata": {},
     "output_type": "display_data"
    }
   ],
   "source": [
    "children1 = date1.loc[:,\"children\"].sum()\n",
    "\n",
    "children2 = date2.loc[:,\"children\"].sum()\n",
    "\n",
    "children3 = date3.loc[:,\"children\"].sum()\n",
    "       \n",
    "display(f\"No. of children in year 2018 is {int(children1)}\",\n",
    "        f\"No. of children in year 2019 is {int(children2)}\",\n",
    "        f\"No. of children in year 2020 is {int(children3)}\")"
   ]
  },
  {
   "cell_type": "markdown",
   "id": "08f67560-6517-458d-96f9-f6092920890e",
   "metadata": {},
   "source": [
    "# Total Babies in Year 2018,2019,2020"
   ]
  },
  {
   "cell_type": "code",
   "execution_count": 11,
   "id": "38e0397e-a6ce-492b-9609-c79da1b280e8",
   "metadata": {},
   "outputs": [
    {
     "data": {
      "text/plain": [
       "'No. of babies in year 2018 is 223'"
      ]
     },
     "metadata": {},
     "output_type": "display_data"
    },
    {
     "data": {
      "text/plain": [
       "'No. of babies in year 2019 is 690'"
      ]
     },
     "metadata": {},
     "output_type": "display_data"
    },
    {
     "data": {
      "text/plain": [
       "'No. of babies in year 2020 is 263'"
      ]
     },
     "metadata": {},
     "output_type": "display_data"
    }
   ],
   "source": [
    "# date1 = new_df[(new_df.loc[:,\"arrival_date_year\"] == 2018)]\n",
    "babies1 = date1.loc[:,\"babies\"].sum()\n",
    "\n",
    "# date2 = new_df[(new_df.loc[:,\"arrival_date_year\"] == 2019)]\n",
    "babies2 = date2.loc[:,\"babies\"].sum()\n",
    "\n",
    "# date3 = new_df[(new_df.loc[:,\"arrival_date_year\"] == 2020)]\n",
    "babies3 = date3.loc[:,\"babies\"].sum()\n",
    "       \n",
    "display(f\"No. of babies in year 2018 is {babies1}\",\n",
    "        f\"No. of babies in year 2019 is {babies2}\",\n",
    "        f\"No. of babies in year 2020 is {babies3}\")"
   ]
  },
  {
   "cell_type": "markdown",
   "id": "c9cbbf8e-7d73-4602-bb4c-51ff3a37a7d0",
   "metadata": {},
   "source": [
    "# Monthwise Total visitors (each year) "
   ]
  },
  {
   "cell_type": "code",
   "execution_count": 12,
   "id": "453effe4-abd5-4501-8b7a-da95f1dc5214",
   "metadata": {},
   "outputs": [
    {
     "name": "stdout",
     "output_type": "stream",
     "text": [
      "total visitors for the year 2018 is: \n",
      "Adults:\n",
      "arrival_date_month\n",
      "August       7545\n",
      "December     5208\n",
      "July         5423\n",
      "November     3714\n",
      "October      8860\n",
      "September    9512\n",
      "Name: adults, dtype: int64,\n",
      "Children:\n",
      "arrival_date_month\n",
      "August       428.0\n",
      "December     216.0\n",
      "July         266.0\n",
      "November      72.0\n",
      "October      192.0\n",
      "September    183.0\n",
      "Name: children, dtype: float64,\n",
      "Babies:\n",
      "arrival_date_month\n",
      "August       67\n",
      "December     46\n",
      "July         26\n",
      "November     21\n",
      "October      32\n",
      "September    31\n",
      "Name: babies, dtype: int64\n",
      "\n",
      "\n",
      "total visitors for the year 2019 is: \n",
      "Adults:\n",
      "arrival_date_month\n",
      "April         9994\n",
      "August       17906\n",
      "December     12600\n",
      "February      7459\n",
      "January       3840\n",
      "July         14557\n",
      "June          9637\n",
      "March         8814\n",
      "May           9982\n",
      "November     11510\n",
      "October      20297\n",
      "September    19696\n",
      "Name: adults, dtype: int64,\n",
      "Children:\n",
      "arrival_date_month\n",
      "April         453.0\n",
      "August       1596.0\n",
      "December      750.0\n",
      "February      355.0\n",
      "January       118.0\n",
      "July         1200.0\n",
      "June          423.0\n",
      "March         443.0\n",
      "May           406.0\n",
      "November      280.0\n",
      "October       706.0\n",
      "September     600.0\n",
      "Name: children, dtype: float64,\n",
      "Babies:\n",
      "arrival_date_month\n",
      "April         24\n",
      "August       148\n",
      "December      81\n",
      "February      27\n",
      "January       24\n",
      "July          85\n",
      "June          41\n",
      "March         34\n",
      "May           32\n",
      "November      45\n",
      "October       62\n",
      "September     87\n",
      "Name: babies, dtype: int64\n",
      "\n",
      "\n",
      "total visitors for the year 2019 is: \n",
      "Adults:\n",
      "arrival_date_month\n",
      "April       10812\n",
      "August       9899\n",
      "February     7584\n",
      "January      6328\n",
      "July        10623\n",
      "June        10716\n",
      "March        8891\n",
      "May         11557\n",
      "Name: adults, dtype: int64,\n",
      "Children:\n",
      "arrival_date_month\n",
      "April        688.0\n",
      "August      1184.0\n",
      "February     468.0\n",
      "January      336.0\n",
      "July        1132.0\n",
      "June         634.0\n",
      "March        257.0\n",
      "May          439.0\n",
      "Name: children, dtype: float64,\n",
      "Babies:\n",
      "arrival_date_month\n",
      "April       29\n",
      "August      48\n",
      "February    32\n",
      "January     25\n",
      "July        36\n",
      "June        30\n",
      "March       23\n",
      "May         40\n",
      "Name: babies, dtype: int64\n"
     ]
    }
   ],
   "source": [
    "tot_visitors_adults1 = date1.groupby(\"arrival_date_month\")[\"adults\"].sum()\n",
    "tot_visitors_children1 = date1.groupby(\"arrival_date_month\")[\"children\"].sum()\n",
    "tot_visitors_babies1 = date1.groupby(\"arrival_date_month\")[\"babies\"].sum()\n",
    "\n",
    "tot_visitors_adults2 = date2.groupby(\"arrival_date_month\")[\"adults\"].sum()\n",
    "tot_visitors_children2 = date2.groupby(\"arrival_date_month\")[\"children\"].sum()\n",
    "tot_visitors_babies2 = date2.groupby(\"arrival_date_month\")[\"babies\"].sum()\n",
    "\n",
    "tot_visitors_adults3 = date3.groupby(\"arrival_date_month\")[\"adults\"].sum()\n",
    "tot_visitors_children3 = date3.groupby(\"arrival_date_month\")[\"children\"].sum()\n",
    "tot_visitors_babies3 = date3.groupby(\"arrival_date_month\")[\"babies\"].sum()\n",
    "\n",
    "tot_2018 = print(f\"total visitors for the year 2018 is: \\nAdults:\\n{tot_visitors_adults1},\\nChildren:\\n{tot_visitors_children1},\\nBabies:\\n{tot_visitors_babies1}\\n\\n\")\n",
    "tot_2019 = print(f\"total visitors for the year 2019 is: \\nAdults:\\n{tot_visitors_adults2},\\nChildren:\\n{tot_visitors_children2},\\nBabies:\\n{tot_visitors_babies2}\\n\\n\")\n",
    "tot_2020 = print(f\"total visitors for the year 2019 is: \\nAdults:\\n{tot_visitors_adults3},\\nChildren:\\n{tot_visitors_children3},\\nBabies:\\n{tot_visitors_babies3}\")\n",
    "\n"
   ]
  },
  {
   "cell_type": "markdown",
   "id": "c010ba86-1d6d-4f2e-b66b-568c8b0e7e8b",
   "metadata": {},
   "source": [
    "# In weekend how many nights they spent in  each type of hotel (yearwise)"
   ]
  },
  {
   "cell_type": "code",
   "execution_count": 15,
   "id": "e786c885-f2f1-4f3c-8f34-66b39253457d",
   "metadata": {},
   "outputs": [
    {
     "data": {
      "text/plain": [
       "0         2\n",
       "1         2\n",
       "2         0\n",
       "3         0\n",
       "4         0\n",
       "         ..\n",
       "141942    0\n",
       "141943    2\n",
       "141944    2\n",
       "141945    1\n",
       "141946    0\n",
       "Name: stays_in_weekend_nights, Length: 141947, dtype: int64"
      ]
     },
     "execution_count": 15,
     "metadata": {},
     "output_type": "execute_result"
    }
   ],
   "source": [
    "new_df.stays_in_weekend_nights"
   ]
  },
  {
   "cell_type": "code",
   "execution_count": 16,
   "id": "19eb21de-152c-40ea-a492-72c33e5cbfac",
   "metadata": {},
   "outputs": [
    {
     "name": "stdout",
     "output_type": "stream",
     "text": [
      "Total bookings of Resort Hotel in year 2018 in weekend are 10075 and in weekdays are 27014\n",
      "Total bookings of City Hotel in year 2018 in weekend are 10375 and in weekdays are 27124\n"
     ]
    }
   ],
   "source": [
    "                                    ## 2018 ##\n",
    "df12 = pd.DataFrame({\"Nights Spent in Weekend\": date1.loc[:,\"stays_in_weekend_nights\"],\n",
    "                     \"Nights Spent in Weekdays\": date1.loc[:,\"stays_in_week_nights\"],\n",
    "                    \"Hotel Type\": date1.loc[:,\"hotel\"],\n",
    "                    \"Year\": date1.loc[:,\"arrival_date_year\"]})\n",
    "\n",
    "Resort_hotel_2018_weekend = df12[df12[\"Hotel Type\"] == \"Resort Hotel\"][\"Nights Spent in Weekend\"].sum()\n",
    "Resort_hotel_2018_weekend\n",
    "# Resort_hotel_2018_weekend = df12[df12[\"Hotel Type\"] == \"Resort Hotel\"]\n",
    "# Resort_hotel_2018_weekend[\"Nights Spent in Weekend\"].sum()\n",
    "\n",
    "Resort_hotel_2018_weekdays = df12[df12[\"Hotel Type\"] == \"Resort Hotel\"][\"Nights Spent in Weekdays\"].sum()\n",
    "Resort_hotel_2018_weekdays\n",
    "# Resort_hotel_2018_weekdays = df12[df12[\"Hotel Type\"] == \"Resort Hotel\"]\n",
    "# Resort_hotel_2018_weekdays[\"Nights Spent in Weekdays\"].sum()\n",
    "\n",
    "\n",
    "City_hotel_2018_weekend = df12[df12[\"Hotel Type\"] == \"City Hotel\"][\"Nights Spent in Weekend\"].sum()\n",
    "City_hotel_2018_weekend\n",
    "# City_hotel_2018_weekend = df12[df12[\"Hotel Type\"] == \"City Hotel\"]\n",
    "# City_hotel_2018_weekend[\"Nights Spent in Weekend\"].sum()\n",
    "\n",
    "City_hotel_2018_weekdays = df12[df12[\"Hotel Type\"] == \"City Hotel\"][\"Nights Spent in Weekdays\"].sum()\n",
    "City_hotel_2018_weekdays\n",
    "# City_hotel_2018_weekdays = df12[df12[\"Hotel Type\"] == \"City Hotel\"]\n",
    "# City_hotel_2018_weekdays[\"Nights Spent in Weekdays\"].sum()\n",
    "\n",
    "print(f\"Total bookings of Resort Hotel in year 2018 in weekend are {Resort_hotel_2018_weekend} and in weekdays are {Resort_hotel_2018_weekdays}\")\n",
    "print(f\"Total bookings of City Hotel in year 2018 in weekend are {City_hotel_2018_weekend} and in weekdays are {City_hotel_2018_weekdays}\")"
   ]
  },
  {
   "cell_type": "code",
   "execution_count": 19,
   "id": "35a0444a-b1bf-4b3d-a077-a51e97e51887",
   "metadata": {},
   "outputs": [
    {
     "name": "stdout",
     "output_type": "stream",
     "text": [
      "Total bookings of Resort Hotel in year 2019 in weekend are 31569 and in weekdays are 83407\n",
      "Total bookings of City Hotel in year 2019 in weekend are 40044 and in weekdays are 110836\n"
     ]
    }
   ],
   "source": [
    "                                    ## 2019 ###\n",
    "df22 = pd.DataFrame({\"Nights Spent in Weekend\": date2.loc[:,\"stays_in_weekend_nights\"],\n",
    "                     \"Nights Spent in Weekdays\": date2.loc[:,\"stays_in_week_nights\"],\n",
    "                    \"Hotel Type\": date2.loc[:,\"hotel\"],\n",
    "                    \"Year\": date2.loc[:,\"arrival_date_year\"]})\n",
    "\n",
    "Resort_hotel_2019_weekend = df22[df22[\"Hotel Type\"] == \"Resort Hotel\"][\"Nights Spent in Weekend\"].sum()\n",
    "Resort_hotel_2019_weekend\n",
    "\n",
    "Resort_hotel_2019_weekdays = df22[df22[\"Hotel Type\"] == \"Resort Hotel\"][\"Nights Spent in Weekdays\"].sum()\n",
    "Resort_hotel_2019_weekdays\n",
    "\n",
    "\n",
    "City_hotel_2019_weekend = df22[df22[\"Hotel Type\"] == \"City Hotel\"][\"Nights Spent in Weekend\"].sum()\n",
    "City_hotel_2019_weekend\n",
    "\n",
    "City_hotel_2019_weekdays = df22[df22[\"Hotel Type\"] == \"City Hotel\"][\"Nights Spent in Weekdays\"].sum()\n",
    "City_hotel_2019_weekdays\n",
    "\n",
    "\n",
    "print(f\"Total bookings of Resort Hotel in year 2019 in weekend are {Resort_hotel_2019_weekend} and in weekdays are {Resort_hotel_2019_weekdays}\")\n",
    "print(f\"Total bookings of City Hotel in year 2019 in weekend are {City_hotel_2019_weekend} and in weekdays are {City_hotel_2019_weekdays}\")"
   ]
  },
  {
   "cell_type": "code",
   "execution_count": 18,
   "id": "1f5651ec-7683-4c21-bdd3-acf39c9f0d76",
   "metadata": {},
   "outputs": [
    {
     "name": "stdout",
     "output_type": "stream",
     "text": [
      "Total bookings of Resort Hotel in year 2020 in weekend are 16521 and in weekdays are 43193\n",
      "Total bookings of City Hotel in year 2020 in weekend are 23080 and in weekdays are 62656\n"
     ]
    }
   ],
   "source": [
    "                                    ## 2020 ###\n",
    "df32 = pd.DataFrame({\"Nights Spent in Weekend\": date3.loc[:,\"stays_in_weekend_nights\"],\n",
    "                     \"Nights Spent in Weekdays\": date3.loc[:,\"stays_in_week_nights\"],\n",
    "                    \"Hotel Type\": date3.loc[:,\"hotel\"],\n",
    "                    \"Year\": date3.loc[:,\"arrival_date_year\"]})\n",
    "\n",
    "Resort_hotel_2020_weekend = df32[df32[\"Hotel Type\"] == \"Resort Hotel\"][\"Nights Spent in Weekend\"].sum()\n",
    "Resort_hotel_2020_weekend\n",
    "\n",
    "Resort_hotel_2020_weekdays = df32[df32[\"Hotel Type\"] == \"Resort Hotel\"][\"Nights Spent in Weekdays\"].sum()\n",
    "Resort_hotel_2020_weekdays\n",
    "\n",
    "\n",
    "City_hotel_2020_weekend = df32[df32[\"Hotel Type\"] == \"City Hotel\"][\"Nights Spent in Weekend\"].sum()\n",
    "City_hotel_2020_weekend\n",
    "\n",
    "City_hotel_2020_weekdays = df32[df32[\"Hotel Type\"] == \"City Hotel\"][\"Nights Spent in Weekdays\"].sum()\n",
    "City_hotel_2020_weekdays\n",
    "\n",
    "\n",
    "print(f\"Total bookings of Resort Hotel in year 2020 in weekend are {Resort_hotel_2020_weekend} and in weekdays are {Resort_hotel_2020_weekdays}\")\n",
    "print(f\"Total bookings of City Hotel in year 2020 in weekend are {City_hotel_2020_weekend} and in weekdays are {City_hotel_2020_weekdays}\")"
   ]
  },
  {
   "cell_type": "markdown",
   "id": "249c49a7-45ef-4484-adc7-bad4a89cd15e",
   "metadata": {},
   "source": [
    "# People with & without babies as well as People with & without children"
   ]
  },
  {
   "cell_type": "code",
   "execution_count": null,
   "id": "2e11623b-4f04-42f3-9e6e-207e1f4ec456",
   "metadata": {},
   "outputs": [],
   "source": [
    "# date1.babies.unique()\n",
    "# date1.adults.unique()\n",
    "date1.children.unique()\n",
    "\n"
   ]
  },
  {
   "cell_type": "code",
   "execution_count": null,
   "id": "84db9665-a198-4ac7-9765-5d804f74b611",
   "metadata": {},
   "outputs": [],
   "source": [
    "# Legth_Resort_without_Babies_18_1,Legth_City_without_Babies_18_1\n",
    "# Legth_Resort_with_Babies_18_2,Legth_City_with_Babies_18_2\n",
    "\n",
    "# Legth_Resort_without_Babies_19_1,Legth_City_without_Babies_19_1\n",
    "# Legth_Resort_with_Babies_19_2,Legth_City_with_Babies_19_2\n",
    "\n",
    "# Legth_Resort_without_Babies_20_1,Legth_City_without_Babies_20_1\n",
    "# Legth_Resort_with_Babies_20_2,Legth_City_with_Babies_20_2\n"
   ]
  },
  {
   "cell_type": "code",
   "execution_count": 20,
   "id": "43d4c7d7-a7d6-480c-bb91-084c9080b849",
   "metadata": {},
   "outputs": [
    {
     "name": "stdout",
     "output_type": "stream",
     "text": [
      "No of visitors coming without babies in Resort Hotel in 2018 is: 8177\n",
      "No of visitors coming without babies in City Hotel in 2018 is: 13606\n",
      "No of visitors coming without babies in Resort Hotel in 2018 is: 137\n",
      "No of visitors coming without babies in City Hotel in 2018 is: 76\n",
      "\n",
      "\n",
      "No of visitors coming without babies in Resort Hotel in 2019 is: 26949\n",
      "No of visitors coming without babies in City Hotel in 2019 is: 51652\n",
      "No of visitors coming without babies in Resort Hotel in 2019 is: 402\n",
      "No of visitors coming without babies in City Hotel in 2019 is: 261\n",
      "\n",
      "\n",
      "No of visitors coming without babies in Resort Hotel in 2020 is: 13032\n",
      "No of visitors coming without babies in City Hotel in 2019 is: 27397\n",
      "No of visitors coming without babies in Resort Hotel in 2020 is: 147\n",
      "No of visitors coming without babies in City Hotel in 2019 is: 111\n"
     ]
    },
    {
     "data": {
      "image/png": "[encoded data removed]",
      "text/plain": [
       "<Figure size 640x480 with 2 Axes>"
      ]
     },
     "metadata": {},
     "output_type": "display_data"
    }
   ],
   "source": [
    "                                               # 2018 #\n",
    "Without_Babies = date1[date1.babies == 0]\n",
    "Resort_without_Babies = Without_Babies[Without_Babies.hotel == \"Resort Hotel\"]\n",
    "Legth_Resort_without_Babies_18_1 = len(Resort_without_Babies)\n",
    "# Legth_Resort_without_Babies\n",
    "\n",
    "City_without_Babies = Without_Babies[Without_Babies.hotel == \"City Hotel\"]\n",
    "Legth_City_without_Babies_18_1 = len(City_without_Babies)\n",
    "\n",
    "print(f\"No of visitors coming without babies in Resort Hotel in 2018 is: {Legth_Resort_without_Babies_18_1}\\nNo of visitors coming without babies in City Hotel in 2018 is: {Legth_City_without_Babies_18_1}\")\n",
    "                                                \n",
    "With_Babies = date1[date1.babies != 0]\n",
    "Resort_with_Babies = With_Babies[With_Babies.hotel == \"Resort Hotel\"]\n",
    "Legth_Resort_with_Babies_18_2 = len(Resort_with_Babies)\n",
    "\n",
    "\n",
    "City_with_Babies = With_Babies[With_Babies.hotel == \"City Hotel\"]\n",
    "Legth_City_with_Babies_18_2 = len(City_with_Babies)\n",
    "\n",
    "\n",
    "print(f\"No of visitors coming with babies in Resort Hotel in 2018 is: {Legth_Resort_with_Babies_18_2}\\nNo of visitors coming with babies in City Hotel in 2018 is: {Legth_City_with_Babies_18_2}\")\n",
    "\n",
    "print(\"\\n\")\n",
    "\n",
    "                                                    # 2019 #\n",
    "Without_Babies = date2[date2.babies == 0]\n",
    "Resort_without_Babies = Without_Babies[Without_Babies.hotel == \"Resort Hotel\"]\n",
    "Legth_Resort_without_Babies_19_1 = len(Resort_without_Babies)\n",
    "# Legth_Resort_without_Babies\n",
    "\n",
    "City_without_Babies = Without_Babies[Without_Babies.hotel == \"City Hotel\"]\n",
    "Legth_City_without_Babies_19_1 = len(City_without_Babies)\n",
    "\n",
    "print(f\"No of visitors coming without babies in Resort Hotel in 2019 is: {Legth_Resort_without_Babies_19_1}\\nNo of visitors coming without babies in City Hotel in 2019 is: {Legth_City_without_Babies_19_1}\")\n",
    "                                                \n",
    "With_Babies = date2[date2.babies != 0]\n",
    "Resort_with_Babies = With_Babies[With_Babies.hotel == \"Resort Hotel\"]\n",
    "Legth_Resort_with_Babies_19_2 = len(Resort_with_Babies)\n",
    "\n",
    "\n",
    "City_with_Babies = With_Babies[With_Babies.hotel == \"City Hotel\"]\n",
    "Legth_City_with_Babies_19_2 = len(City_with_Babies)\n",
    "\n",
    "print(f\"No of visitors coming with babies in Resort Hotel in 2019 is: {Legth_Resort_with_Babies_19_2}\\nNo of visitors coming with babies in City Hotel in 2019 is: {Legth_City_with_Babies_19_2}\")\n",
    "\n",
    "print(\"\\n\")\n",
    "\n",
    "                                                    # 2020 #\n",
    "Without_Babies = date3[date3.babies == 0]\n",
    "Resort_without_Babies = Without_Babies[Without_Babies.hotel == \"Resort Hotel\"]\n",
    "Legth_Resort_without_Babies_20_1 = len(Resort_without_Babies)\n",
    "# Legth_Resort_without_Babies\n",
    "\n",
    "City_without_Babies = Without_Babies[Without_Babies.hotel == \"City Hotel\"]\n",
    "Legth_City_without_Babies_20_1 = len(City_without_Babies)\n",
    "\n",
    "print(f\"No of visitors coming without babies in Resort Hotel in 2020 is: {Legth_Resort_without_Babies_20_1}\\nNo of visitors coming without babies in City Hotel in 2019 is: {Legth_City_without_Babies_20_1}\")\n",
    "                                                \n",
    "With_Babies = date3[date3.babies != 0]\n",
    "Resort_with_Babies = With_Babies[With_Babies.hotel == \"Resort Hotel\"]\n",
    "Legth_Resort_with_Babies_20_2 = len(Resort_with_Babies)\n",
    "\n",
    "\n",
    "City_with_Babies = With_Babies[With_Babies.hotel == \"City Hotel\"]\n",
    "Legth_City_with_Babies_20_2 = len(City_with_Babies)\n",
    "\n",
    "print(f\"No of visitors coming with babies in Resort Hotel in 2020 is: {Legth_Resort_with_Babies_20_2}\\nNo of visitors coming with babies in City Hotel in 2019 is: {Legth_City_with_Babies_20_2}\")\n",
    "\n",
    "### Graphical Representation\n",
    "year = [2018,2019,2020]\n",
    "y1 = [Legth_Resort_with_Babies_18_2,Legth_Resort_with_Babies_19_2,Legth_Resort_with_Babies_20_2]\n",
    "y2 = [Legth_City_with_Babies_18_2,Legth_City_with_Babies_19_2,Legth_City_with_Babies_20_2]\n",
    "\n",
    "plt.subplot(1,2,1)\n",
    "plt.bar(year,y1)\n",
    "\n",
    "plt.subplot(1,2,2)\n",
    "plt.bar(year,y2)\n",
    "\n",
    "plt.show()\n",
    "\n",
    "# Legth_Resort_without_Babies_18_1,Legth_City_without_Babies_18_1\n",
    "# Legth_Resort_with_Babies_18_2,Legth_City_with_Babies_18_2\n",
    "\n",
    "# Legth_Resort_without_Babies_19_1,Legth_City_without_Babies_19_1\n",
    "# Legth_Resort_with_Babies_19_2,Legth_City_with_Babies_19_2\n",
    "\n",
    "# Legth_Resort_without_Babies_20_1,Legth_City_without_Babies_20_1\n",
    "# Legth_Resort_with_Babies_20_2,Legth_City_with_Babies_20_2\n"
   ]
  },
  {
   "cell_type": "markdown",
   "id": "62f79894-170b-40d0-8dc7-a8a5c58603d5",
   "metadata": {},
   "source": [
    "# Correlation "
   ]
  },
  {
   "cell_type": "code",
   "execution_count": 21,
   "id": "edb25721-39c3-4cb8-8acb-816e4e26a70d",
   "metadata": {},
   "outputs": [
    {
     "data": {
      "image/png": "[encoded data removed]",
      "text/plain": [
       "<Figure size 1000x1000 with 2 Axes>"
      ]
     },
     "metadata": {},
     "output_type": "display_data"
    }
   ],
   "source": [
    "num_col = ['adr','is_repeated_guest','booking_changes','total_of_special_requests','lead_time']\n",
    "output = new_df[num_col].corr(method = \"pearson\")\n",
    "plt.imshow(output,cmap = \"Spectral\")\n",
    "plt.colorbar()\n",
    "plt.gcf().set_size_inches(10, 10)\n",
    "plt.xticks(range(len(output.columns)), output.columns)\n",
    "plt.yticks(range(len(output.columns)), output.columns)\n",
    "labels = output.values\n",
    "for a in range(labels.shape[0]):\n",
    "    for b in range(labels.shape[1]):\n",
    "        plt.text(a, b, '{:.2f}'.format(labels[b, a]), ha='center', va='center', color='black')\n",
    "plt.title('Hotel Data Corr \\n', fontsize=14)\n",
    "plt.xticks(rotation = 60)\n",
    "plt.show()"
   ]
  },
  {
   "cell_type": "markdown",
   "id": "e6dc2992-9f76-4a2f-8a41-7f6e4918c766",
   "metadata": {},
   "source": [
    "# Year-wise how many customers are coming in weekend and in weekdays also"
   ]
  },
  {
   "cell_type": "code",
   "execution_count": 23,
   "id": "973f7f40-80df-4f27-8f5d-21f3f5e1b5ee",
   "metadata": {},
   "outputs": [
    {
     "name": "stdout",
     "output_type": "stream",
     "text": [
      "<class 'pandas.core.frame.DataFrame'>\n",
      "RangeIndex: 141947 entries, 0 to 141946\n",
      "Data columns (total 33 columns):\n",
      " #   Column                          Non-Null Count   Dtype         \n",
      "---  ------                          --------------   -----         \n",
      " 0   hotel                           141947 non-null  object        \n",
      " 1   is_canceled                     141947 non-null  int64         \n",
      " 2   lead_time                       141947 non-null  int64         \n",
      " 3   arrival_date_year               141947 non-null  int64         \n",
      " 4   arrival_date_month              141947 non-null  object        \n",
      " 5   arrival_date_week_number        141947 non-null  int64         \n",
      " 6   arrival_date_day_of_month       141947 non-null  int64         \n",
      " 7   stays_in_weekend_nights         141947 non-null  int64         \n",
      " 8   stays_in_week_nights            141947 non-null  int64         \n",
      " 9   adults                          141947 non-null  int64         \n",
      " 10  children                        141939 non-null  float64       \n",
      " 11  babies                          141947 non-null  int64         \n",
      " 12  meal                            141947 non-null  object        \n",
      " 13  country                         141322 non-null  object        \n",
      " 14  market_segment                  141947 non-null  object        \n",
      " 15  distribution_channel            141947 non-null  object        \n",
      " 16  is_repeated_guest               141947 non-null  int64         \n",
      " 17  previous_cancellations          141947 non-null  int64         \n",
      " 18  previous_bookings_not_canceled  141947 non-null  int64         \n",
      " 19  reserved_room_type              141947 non-null  object        \n",
      " 20  assigned_room_type              141947 non-null  object        \n",
      " 21  booking_changes                 141947 non-null  int64         \n",
      " 22  deposit_type                    141947 non-null  object        \n",
      " 23  agent                           122392 non-null  float64       \n",
      " 24  company                         8125 non-null    float64       \n",
      " 25  days_in_waiting_list            141947 non-null  int64         \n",
      " 26  customer_type                   141947 non-null  object        \n",
      " 27  adr                             141947 non-null  float64       \n",
      " 28  required_car_parking_spaces     141947 non-null  int64         \n",
      " 29  total_of_special_requests       141947 non-null  int64         \n",
      " 30  reservation_status              141947 non-null  object        \n",
      " 31  reservation_status_date         141947 non-null  datetime64[ns]\n",
      " 32  Column1                         0 non-null       float64       \n",
      "dtypes: datetime64[ns](1), float64(5), int64(16), object(11)\n",
      "memory usage: 35.7+ MB\n"
     ]
    }
   ],
   "source": [
    "new_df.info()"
   ]
  },
  {
   "cell_type": "code",
   "execution_count": 24,
   "id": "2b68eae5-07c2-479e-ae3e-9640bba21793",
   "metadata": {},
   "outputs": [
    {
     "data": {
      "image/png": "[encoded data removed]",
      "text/plain": [
       "<Figure size 640x480 with 1 Axes>"
      ]
     },
     "metadata": {},
     "output_type": "display_data"
    }
   ],
   "source": [
    "customer_type = [\"Resort_hotel_2018_weekend\",\"Resort_hotel_2018_weekdays\"]\n",
    "tot_no = [Resort_hotel_2018_weekend,Resort_hotel_2018_weekdays]\n",
    "# plt.subplot(1, 3, 1)\n",
    "plt.bar(customer_type,tot_no)\n",
    "plt.xticks(rotation = 60)\n",
    "# plt.show()\n",
    "\n",
    "customer_type = [\"Resort_hotel_2019_weekend\",\"Resort_hotel_2019_weekdays\"]\n",
    "tot_no = [Resort_hotel_2019_weekend,Resort_hotel_2019_weekdays]\n",
    "# plt.subplot(1, 3, 2)\n",
    "\n",
    "plt.bar(customer_type,tot_no)\n",
    "plt.xticks(rotation = 60)\n",
    "# plt.show()\n",
    "\n",
    "\n",
    "customer_type = [\"Resort_hotel_2020_weekend\",\"Resort_hotel_2020_weekdays\"]\n",
    "tot_no = [Resort_hotel_2020_weekend,Resort_hotel_2020_weekdays]\n",
    "# plt.subplot(1, 3, 3)\n",
    "plt.bar(customer_type,tot_no)\n",
    "plt.xticks(rotation = 60)\n",
    "\n",
    "plt.title(\"Year-wise Total customers in weekend and weekdays\")\n",
    "plt.show()"
   ]
  },
  {
   "cell_type": "code",
   "execution_count": null,
   "id": "fcd96aaf-3d8b-48b7-b8e7-11e7a3958685",
   "metadata": {},
   "outputs": [],
   "source": []
  },
  {
   "cell_type": "code",
   "execution_count": 25,
   "id": "c5e56dbc-0f7b-4302-abe1-d1db0b4f51f8",
   "metadata": {},
   "outputs": [
    {
     "data": {
      "image/png": "[encoded data removed]",
      "text/plain": [
       "<Figure size 1000x600 with 1 Axes>"
      ]
     },
     "metadata": {},
     "output_type": "display_data"
    }
   ],
   "source": [
    "year = [2018,2019,2020]\n",
    "\n",
    "tot_adults1 = tot_visitors_adults1.sum() \n",
    "tot_adults2 = tot_visitors_adults2.sum() \n",
    "tot_adults3 = tot_visitors_adults3.sum()\n",
    "\n",
    "tot_children1 = int(tot_visitors_children1.sum())\n",
    "tot_children2 = int(tot_visitors_children2.sum())\n",
    "tot_children3 = int(tot_visitors_children3.sum())\n",
    "\n",
    "tot_babies1 = tot_visitors_babies1.sum() \n",
    "tot_babies2 = tot_visitors_babies2.sum() \n",
    "tot_babies3 = tot_visitors_babies3.sum()\n",
    "\n",
    "Adults =  np.array([tot_adults1,tot_adults2,tot_adults3])\n",
    "Children = np.array([tot_children1,tot_children2,tot_children3])\n",
    "Babies = np.array([tot_babies1,tot_babies2,tot_babies3])\n",
    "\n",
    "plt.figure(figsize = (10,6))\n",
    "plt.bar(year,Adults,label = \"Adults\")\n",
    "plt.bar(year,Children,bottom = Adults,label = \"Children\")\n",
    "plt.bar(year,Babies,bottom = Adults+Children,label = \"Babies\")\n",
    "plt.legend()\n",
    "plt.show()"
   ]
  },
  {
   "cell_type": "code",
   "execution_count": null,
   "id": "019ff4f6-2ebb-47f1-b834-69c7c0f799b6",
   "metadata": {},
   "outputs": [],
   "source": [
    "\n",
    "# plt.plot(year,Adults)\n",
    "# plt.plot(year,Children,\"--\")\n",
    "# plt.plot(year,Babies,\".-\")\n",
    "# plt.show()\n"
   ]
  },
  {
   "cell_type": "markdown",
   "id": "5663a2ba-6999-4c49-b568-11c3282f9df0",
   "metadata": {},
   "source": [
    "# Highest ADR(Avg Daily Rate) for each Year "
   ]
  },
  {
   "cell_type": "code",
   "execution_count": 26,
   "id": "9437450a-ed7b-4b92-9c78-0865e06019de",
   "metadata": {},
   "outputs": [
    {
     "data": {
      "text/html": [
       "<div>\n",
       "<style scoped>\n",
       "    .dataframe tbody tr th:only-of-type {\n",
       "        vertical-align: middle;\n",
       "    }\n",
       "\n",
       "    .dataframe tbody tr th {\n",
       "        vertical-align: top;\n",
       "    }\n",
       "\n",
       "    .dataframe thead th {\n",
       "        text-align: right;\n",
       "    }\n",
       "</style>\n",
       "<table border=\"1\" class=\"dataframe\">\n",
       "  <thead>\n",
       "    <tr style=\"text-align: right;\">\n",
       "      <th></th>\n",
       "      <th>Year</th>\n",
       "      <th>Highest_AVR_Rate</th>\n",
       "      <th>Lowest_AVR_Rate</th>\n",
       "    </tr>\n",
       "  </thead>\n",
       "  <tbody>\n",
       "    <tr>\n",
       "      <th>0</th>\n",
       "      <td>2018</td>\n",
       "      <td>508.0</td>\n",
       "      <td>0.00</td>\n",
       "    </tr>\n",
       "    <tr>\n",
       "      <th>1</th>\n",
       "      <td>2019</td>\n",
       "      <td>5400.0</td>\n",
       "      <td>0.00</td>\n",
       "    </tr>\n",
       "    <tr>\n",
       "      <th>2</th>\n",
       "      <td>2020</td>\n",
       "      <td>510.0</td>\n",
       "      <td>-6.38</td>\n",
       "    </tr>\n",
       "  </tbody>\n",
       "</table>\n",
       "</div>"
      ],
      "text/plain": [
       "   Year  Highest_AVR_Rate  Lowest_AVR_Rate\n",
       "0  2018             508.0             0.00\n",
       "1  2019            5400.0             0.00\n",
       "2  2020             510.0            -6.38"
      ]
     },
     "execution_count": 26,
     "metadata": {},
     "output_type": "execute_result"
    }
   ],
   "source": [
    "high_adr_2018 = date1.adr.max()\n",
    "high_adr_2019 = date2.adr.max()\n",
    "high_adr_2020 = date3.adr.max()\n",
    "\n",
    "low_adr_2018 = date1.adr.min()\n",
    "low_adr_2019 = date2.adr.min()\n",
    "low_adr_2020 = date3.adr.min()\n",
    "\n",
    "year_adr = pd.DataFrame({\"Year\":year,\n",
    "                        \"Highest_AVR_Rate\":[high_adr_2018,high_adr_2019,high_adr_2020],\n",
    "                        \"Lowest_AVR_Rate\":[low_adr_2018,low_adr_2019,low_adr_2020]})\n",
    "year_adr"
   ]
  },
  {
   "cell_type": "markdown",
   "id": "e9bb766f-a2e2-4038-b2eb-9d613147d672",
   "metadata": {},
   "source": [
    "# No. of repeated Customers"
   ]
  },
  {
   "cell_type": "code",
   "execution_count": 27,
   "id": "f6fa9c0d-71aa-4eb4-a883-367571fc5b3f",
   "metadata": {},
   "outputs": [
    {
     "name": "stdout",
     "output_type": "stream",
     "text": [
      "No. of repeated customers for year 2018 is 641 \n",
      "No. of repeated customers for year 2019 is 2420 \n",
      "No. of repeated customers for year 2020 is 1391\n"
     ]
    }
   ],
   "source": [
    "repeated_cust1 = date1.is_repeated_guest.sum()\n",
    "repeated_cust2 = date2.is_repeated_guest.sum()\n",
    "repeated_cust3 = date3.is_repeated_guest.sum()\n",
    "\n",
    "print(f\"No. of repeated customers for year 2018 is {repeated_cust1} \\nNo. of repeated customers for year 2019 is {repeated_cust2} \\nNo. of repeated customers for year 2020 is {repeated_cust3}\")"
   ]
  },
  {
   "cell_type": "markdown",
   "id": "1a031736-99cf-4ad6-bf90-20f7ecf84454",
   "metadata": {},
   "source": [
    "# New customers gained"
   ]
  },
  {
   "cell_type": "code",
   "execution_count": 28,
   "id": "274832ab-f642-483b-aeaf-bdea3617ac0f",
   "metadata": {},
   "outputs": [
    {
     "name": "stdout",
     "output_type": "stream",
     "text": [
      "No. of new customers gained in 2018 are 41201 \n",
      "No. of new customers gained in 2019 are 151892\n",
      "No. of new customers gained in 2020 are 80420\n"
     ]
    }
   ],
   "source": [
    "cust_gained_1 = (tot_adults1 + tot_children1 + tot_babies1) - (repeated_cust1)\n",
    "cust_gained_2 = (tot_adults2 + tot_children2 + tot_babies2) - (repeated_cust2)\n",
    "cust_gained_3 = (tot_adults3 + tot_children3 + tot_babies3) - (repeated_cust3)\n",
    "\n",
    "print(f\"No. of new customers gained in 2018 are {cust_gained_1} \\nNo. of new customers gained in 2019 are {cust_gained_2}\\nNo. of new customers gained in 2020 are {cust_gained_3}\")\n"
   ]
  },
  {
   "cell_type": "code",
   "execution_count": 29,
   "id": "ba532cfe-730e-4992-840d-3c5ac6e75355",
   "metadata": {},
   "outputs": [
    {
     "data": {
      "image/png": "[encoded data removed]",
      "text/plain": [
       "<Figure size 640x480 with 1 Axes>"
      ]
     },
     "metadata": {},
     "output_type": "display_data"
    }
   ],
   "source": [
    "Gained = [cust_gained_1,cust_gained_2,cust_gained_3]\n",
    "Repeat = [repeated_cust1,repeated_cust2,repeated_cust3]\n",
    "\n",
    "\n",
    "plt.plot(year,Repeat,label = \"Repeat\")\n",
    "plt.plot(year,Gained,label = \"Gained\")\n",
    "plt.legend()\n",
    "plt.show()"
   ]
  },
  {
   "cell_type": "markdown",
   "id": "37c2edb1-6016-4633-aed1-98eba0e2c9e6",
   "metadata": {},
   "source": [
    "# Country_wise no. of visitors"
   ]
  },
  {
   "cell_type": "code",
   "execution_count": 30,
   "id": "b2146211-859f-4806-ac2c-6ea71945f425",
   "metadata": {},
   "outputs": [
    {
     "name": "stdout",
     "output_type": "stream",
     "text": [
      "         adults  children  babies\n",
      "country                          \n",
      "AGO          71       9.0       0\n",
      "ALB           4       0.0       0\n",
      "ARG          26       0.0       0\n",
      "ARM           2       0.0       0\n",
      "AUS          49       3.0       0\n",
      "...         ...       ...     ...\n",
      "USA         309      23.0       1\n",
      "VEN          12       2.0       0\n",
      "ZAF           5       2.0       0\n",
      "ZMB           2       2.0       0\n",
      "ZWE           2       0.0       0\n",
      "\n",
      "[98 rows x 3 columns]          adults  children  babies\n",
      "country                          \n",
      "ABW           3       0.0       0\n",
      "AGO         360      47.0       1\n",
      "AIA           2       2.0       0\n",
      "ALB          14       0.0       1\n",
      "AND           7       1.0       0\n",
      "...         ...       ...     ...\n",
      "VGB           2       0.0       0\n",
      "VNM          10       0.0       0\n",
      "ZAF          72       8.0       0\n",
      "ZMB           4       2.0       0\n",
      "ZWE           2       0.0       0\n",
      "\n",
      "[159 rows x 3 columns]          adults  children  babies\n",
      "country                          \n",
      "ABW           2       0.0       0\n",
      "AGO         210      30.0       4\n",
      "ALB           7       0.0       0\n",
      "AND           8       3.0       0\n",
      "ARE          30       9.0       0\n",
      "...         ...       ...     ...\n",
      "UZB           5       0.0       0\n",
      "VEN          12       1.0       1\n",
      "VNM           7       0.0       0\n",
      "ZAF          71       9.0       0\n",
      "ZWE           6       0.0       0\n",
      "\n",
      "[149 rows x 3 columns]\n"
     ]
    }
   ],
   "source": [
    "a = date1.groupby(\"country\")[['adults','children','babies']].sum()\n",
    "b = date2.groupby(\"country\")[['adults','children','babies']].sum()\n",
    "c = date3.groupby(\"country\")[['adults','children','babies']].sum()\n",
    "print(a,b,c)\n"
   ]
  },
  {
   "cell_type": "markdown",
   "id": "c0e526da-1e45-4f2a-a6fc-5e61547f8df4",
   "metadata": {},
   "source": [
    "# No. of customers in each type (yearwise)"
   ]
  },
  {
   "cell_type": "code",
   "execution_count": 31,
   "id": "ef32c06c-16a8-4a68-87d5-6cf93f3cf02a",
   "metadata": {},
   "outputs": [
    {
     "name": "stdout",
     "output_type": "stream",
     "text": [
      "2658 192 11431 7715\n",
      "3427 362 56252 19223\n",
      "662 218 33791 6016\n"
     ]
    }
   ],
   "source": [
    "                            # 2018 #\n",
    "Contract_1 = len(date1[(date1.customer_type == \"Contract\")])\n",
    "Group_1 = len(date1[(date1.customer_type == \"Group\")])\n",
    "Transient_1 = len(date1[(date1.customer_type == \"Transient\")])\n",
    "Transient_Party_1 = len(date1[(date1.customer_type == \"Transient-Party\")])\n",
    "\n",
    "print(Contract_1,Group_1,Transient_1,Transient_Party_1)\n",
    "\n",
    "                            # 2019 #\n",
    "Contract_2 = len(date2[(date2.customer_type == \"Contract\")])\n",
    "Group_2 = len(date2[(date2.customer_type == \"Group\")])\n",
    "Transient_2 = len(date2[(date2.customer_type == \"Transient\")])\n",
    "Transient_Party_2 = len(date2[(date2.customer_type == \"Transient-Party\")])\n",
    "\n",
    "print(Contract_2,Group_2,Transient_2,Transient_Party_2)\n",
    "\n",
    "                            # 2020 #\n",
    "Contract_3 = len(date3[(date3.customer_type == \"Contract\")])\n",
    "Group_3 = len(date3[(date3.customer_type == \"Group\")])\n",
    "Transient_3 = len(date3[(date3.customer_type == \"Transient\")])\n",
    "Transient_Party_3 = len(date3[(date3.customer_type == \"Transient-Party\")])\n",
    "\n",
    "print(Contract_3,Group_3,Transient_3,Transient_Party_3)"
   ]
  },
  {
   "cell_type": "code",
   "execution_count": 32,
   "id": "c709da3a-f214-412a-8a3b-4d2294eb953d",
   "metadata": {},
   "outputs": [
    {
     "data": {
      "image/png": "[encoded data removed]",
      "text/plain": [
       "<Figure size 640x480 with 1 Axes>"
      ]
     },
     "metadata": {},
     "output_type": "display_data"
    }
   ],
   "source": [
    "Contract = np.array([Contract_1,Contract_2,Contract_3])\n",
    "Group = np.array([Group_1,Group_2,Group_3])\n",
    "Transient = np.array([Transient_1,Transient_2,Transient_3])\n",
    "Transient_Party = np.array([Transient_Party_1,Transient_Party_2,Transient_Party_3])\n",
    "\n",
    "plt.bar(year,Contract,label = \"Contract\")\n",
    "plt.bar(year,Group,bottom = Contract,label = \"Group\")\n",
    "plt.bar(year,Transient,bottom = Contract + Group,label = \"Transient\")\n",
    "plt.bar(year,Transient_Party,bottom = Contract + Group + Transient,label = \"Transient_Party\")\n",
    "\n",
    "plt.legend()\n",
    "plt.show()\n",
    "# Transient_Party"
   ]
  },
  {
   "cell_type": "code",
   "execution_count": null,
   "id": "0e6bacb1-1d7f-4631-8a0c-8f70b0b0fc3f",
   "metadata": {},
   "outputs": [],
   "source": []
  },
  {
   "cell_type": "code",
   "execution_count": null,
   "id": "80081f6f-6027-4c95-8113-896e35f8d148",
   "metadata": {},
   "outputs": [],
   "source": []
  },
  {
   "cell_type": "code",
   "execution_count": null,
   "id": "6552baf1-aa8a-41e1-99b0-856d130b9113",
   "metadata": {},
   "outputs": [],
   "source": []
  },
  {
   "cell_type": "code",
   "execution_count": null,
   "id": "58a8b8f8-b1d4-41bc-bf3e-fb4e50ba0587",
   "metadata": {},
   "outputs": [],
   "source": []
  }
 ],
 "metadata": {
  "kernelspec": {
   "display_name": "Python 3 (ipykernel)",
   "language": "python",
   "name": "python3"
  },
  "language_info": {
   "codemirror_mode": {
    "name": "ipython",
    "version": 3
   },
   "file_extension": ".py",
   "mimetype": "text/x-python",
   "name": "python",
   "nbconvert_exporter": "python",
   "pygments_lexer": "ipython3",
   "version": "3.12.1"
  }
 },
 "nbformat": 4,
 "nbformat_minor": 5
}
