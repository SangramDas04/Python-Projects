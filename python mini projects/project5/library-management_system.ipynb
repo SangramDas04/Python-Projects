{
 "cells": [
  {
   "cell_type": "code",
   "execution_count": 1,
   "id": "55aacc67-fa53-407a-b7a6-dad7d6aa9d6b",
   "metadata": {},
   "outputs": [
    {
     "ename": "IndentationError",
     "evalue": "expected an indented block after function definition on line 3 (2449376850.py, line 4)",
     "output_type": "error",
     "traceback": [
      "\u001b[1;36m  Cell \u001b[1;32mIn[1], line 4\u001b[1;36m\u001b[0m\n\u001b[1;33m    self.noBook = 0\u001b[0m\n\u001b[1;37m                   ^\u001b[0m\n\u001b[1;31mIndentationError\u001b[0m\u001b[1;31m:\u001b[0m expected an indented block after function definition on line 3\n"
     ]
    }
   ],
   "source": [
    "        #LIBRARY MANAGEMENT SYSTEM\n",
    "class Library:\n",
    "    def __init__(self):\n",
    "        self.noBook = 0\n",
    "        self.books = []\n",
    "    def addbook(self,book):\n",
    "        self.books.append(book)\n",
    "        self.noBook = len(self.books)\n",
    "    def show(self):\n",
    "        print(f\"The library has {self.noBook} books. The books are\")\n",
    "        for book in self.books:\n",
    "            print(book)\n",
    "\n",
    "a = Library()\n",
    "a.addbook(\"Harry Potter 1\")\n",
    "a.addbook(\"Harry Potter 2\")\n",
    "a.addbook(\"Harry Potter 3\")\n",
    "a.show()\n"
   ]
  },
  {
   "cell_type": "code",
   "execution_count": null,
   "id": "d2b0b005-1893-453a-ae5e-7522fd0cb1ce",
   "metadata": {},
   "outputs": [],
   "source": []
  }
 ],
 "metadata": {
  "kernelspec": {
   "display_name": "Python 3 (ipykernel)",
   "language": "python",
   "name": "python3"
  },
  "language_info": {
   "codemirror_mode": {
    "name": "ipython",
    "version": 3
   },
   "file_extension": ".py",
   "mimetype": "text/x-python",
   "name": "python",
   "nbconvert_exporter": "python",
   "pygments_lexer": "ipython3",
   "version": "3.12.1"
  }
 },
 "nbformat": 4,
 "nbformat_minor": 5
}
